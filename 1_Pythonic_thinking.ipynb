{
 "cells": [
  {
   "cell_type": "markdown",
   "id": "a1447cd8",
   "metadata": {},
   "source": [
    "# Chapter 1\n",
    "\n",
    "## Item 1: Pythonic Thinking\n",
    "\n",
    "- Check python version:\n",
    "1. Via command line:"
   ]
  },
  {
   "cell_type": "code",
   "execution_count": 20,
   "id": "2cb25b3f",
   "metadata": {},
   "outputs": [
    {
     "name": "stdout",
     "output_type": "stream",
     "text": [
      "Python 3.8.10\n"
     ]
    }
   ],
   "source": [
    "!python3 --version"
   ]
  },
  {
   "cell_type": "markdown",
   "id": "0f74f529",
   "metadata": {},
   "source": [
    "2. Via Python interpreter:"
   ]
  },
  {
   "cell_type": "code",
   "execution_count": 21,
   "id": "414cf6d8",
   "metadata": {},
   "outputs": [
    {
     "name": "stdout",
     "output_type": "stream",
     "text": [
      "3.8.10 (default, Mar 15 2022, 12:22:08) \n",
      "[GCC 9.4.0]\n"
     ]
    }
   ],
   "source": [
    "import sys\n",
    "print(sys.version)"
   ]
  },
  {
   "cell_type": "markdown",
   "id": "8a2bdbc3",
   "metadata": {},
   "source": [
    "## Item 2: PEP 8 - Style Guide for Python Code\n",
    "\n",
    "\n",
    "1. Whitespace:\n",
    "   - Use 4 spaces for indentation.\n",
    "   - Lines should be less than 79 characters.\n",
    "   - Additional lines of continued long expressions must be indented with 4 spaces.\n",
    "   - In a file, functions and classes must be indented with 4 spaces.\n",
    "   - In a class, methods must be seperated by one blank line.\n",
    "   - In a dictionary: put no space between a key and colon, add single space after colon and value (if it fits in a single line.) i.e `{'key': 'value'}`\n",
    "   - Put one space before and after the `=` sign. i.e `a = 5`.\n",
    "   - For type annotations, put one space before and after the `:` sign. i.e `a: int = 5`.\n",
    "\n",
    "2. Naming:\n",
    "   - Functions, variables, classes, and modules should be in snake_case. i.e `my_function`.\n",
    "   - Prefixed with `_` for internal use. i.e `_my_function`.\n",
    "   - Prefixed with `__` for private use. i.e `__my_function`.\n",
    "   - Capitalized name for classes. i.e `MyClass`.\n",
    "   - Instance variables should be prefixed with `self.` i.e `self.my_variable`.\n",
    "   - Class methods should use cls as the first argument. i.e `self.my_method(cls)`.\n",
    "  \n",
    "3. Expressions and Statements:\n",
    "   - Use inline negations, i.e  `if a is not b` instead of `if not a is b`.\n",
    "   - Don't check for empty containers using `len()`, use `if a:` instead. i.e.\n",
    "        - instead of `if len(a) == 0:`, use `if not a`.\n",
    "        - instead of `if len(a) != 0:`, use `if a`.\n",
    "   - Use `is` instead of `==` for comparing objects.\n",
    "        -  i.e instead of `if a == b`, use `if a is b`.\n",
    "   - Avoid inline statements when not necessary.\n",
    "   - Surround multiline statements with parantheses `()` instead of the `\\` line continuation character.\n",
    "    - Use `pass` as a placeholder for empty statements.\n",
    "  \n",
    "4. Imports:\n",
    "   - Imports must be at the top of the file.\n",
    "   - Always absolute imports are preferred. i.e. `from module import function`, instead of `import module.function`.\n",
    "   - If relative imports are must, then use `from .module import function`.\n",
    "   - Imports in order:\n",
    "       - Standard library imports.\n",
    "       - Third party imports.\n",
    "       - Local imports.\n",
    "   - Avoid using `from module import *`.\n",
    "\n",
    "## Item 3: bytes and str character sequence\n",
    "\n",
    "1. Byte strings:\n",
    "    - Use `bytes` for binary data. Contains raw, unsigned 8-bit values."
   ]
  },
  {
   "cell_type": "code",
   "execution_count": 22,
   "id": "427dd19e",
   "metadata": {},
   "outputs": [
    {
     "name": "stdout",
     "output_type": "stream",
     "text": [
      "b'hello'\n"
     ]
    }
   ],
   "source": [
    "\n",
    "a = b'h\\x65llo'\n",
    "print(a)\n"
   ]
  },
  {
   "cell_type": "code",
   "execution_count": 23,
   "id": "97d5aa74",
   "metadata": {},
   "outputs": [
    {
     "name": "stdout",
     "output_type": "stream",
     "text": [
      "[104, 101, 108, 108, 111]\n"
     ]
    }
   ],
   "source": [
    "b'hello'\n",
    "print(list(a))\n"
   ]
  },
  {
   "cell_type": "code",
   "execution_count": 24,
   "id": "e26d0e6d",
   "metadata": {},
   "outputs": [
    {
     "name": "stdout",
     "output_type": "stream",
     "text": [
      "hello\n"
     ]
    }
   ],
   "source": [
    "\n",
    "# Convert byte to string\n",
    "string = a.decode('utf-8')\n",
    "print(string)\n"
   ]
  },
  {
   "cell_type": "markdown",
   "id": "9da4d03d",
   "metadata": {},
   "source": [
    "\n",
    "- To read a binary file:\n",
    "- Use `open(filename, 'rb')`\n",
    "- Use `read()` to read the entire file.\n",
    "- Use `close()` to close the file.\n"
   ]
  },
  {
   "cell_type": "code",
   "execution_count": 25,
   "id": "7374b6a8",
   "metadata": {},
   "outputs": [],
   "source": [
    "with open('test.bin', 'wb') as f:\n",
    "    f.write(b'hello')\n"
   ]
  },
  {
   "cell_type": "markdown",
   "id": "87478133",
   "metadata": {},
   "source": [
    "\n",
    "2. Strings:\n",
    "- Use `str` for text data. Contains raw, Unicode characters.\n",
    "- Instances of strings contain Unicode characters.\n",
    "    \n"
   ]
  },
  {
   "cell_type": "code",
   "execution_count": 26,
   "id": "92235840",
   "metadata": {},
   "outputs": [
    {
     "name": "stdout",
     "output_type": "stream",
     "text": [
      "hello\n"
     ]
    }
   ],
   "source": [
    "\n",
    "a = 'hello'\n",
    "print(a)\n"
   ]
  },
  {
   "cell_type": "code",
   "execution_count": 27,
   "id": "9de645a4",
   "metadata": {},
   "outputs": [
    {
     "name": "stdout",
     "output_type": "stream",
     "text": [
      "['h', 'e', 'l', 'l', 'o']\n"
     ]
    }
   ],
   "source": [
    "print(list(a))"
   ]
  },
  {
   "cell_type": "markdown",
   "id": "ec567c81",
   "metadata": {},
   "source": [
    "- String concatenation and comparision  is possible with same type of strings. i.e. bytes with bytes, and str with str."
   ]
  },
  {
   "cell_type": "code",
   "execution_count": 28,
   "id": "28b4917b",
   "metadata": {},
   "outputs": [
    {
     "ename": "TypeError",
     "evalue": "can't concat str to bytes",
     "output_type": "error",
     "traceback": [
      "\u001b[0;31m---------------------------------------------------------------------------\u001b[0m",
      "\u001b[0;31mTypeError\u001b[0m                                 Traceback (most recent call last)",
      "\u001b[1;32m/media/srini/Projects/Personal_Projects/OpenCV_GUI/Pyhton/better_python/1_Pythonic_thinking.ipynb Cell 15'\u001b[0m in \u001b[0;36m<cell line: 3>\u001b[0;34m()\u001b[0m\n\u001b[1;32m      <a href='vscode-notebook-cell:/media/srini/Projects/Personal_Projects/OpenCV_GUI/Pyhton/better_python/1_Pythonic_thinking.ipynb#ch0000007?line=0'>1</a>\u001b[0m a \u001b[39m=\u001b[39m \u001b[39mb\u001b[39m\u001b[39m'\u001b[39m\u001b[39mhello\u001b[39m\u001b[39m'\u001b[39m    \u001b[39m# bytes\u001b[39;00m\n\u001b[1;32m      <a href='vscode-notebook-cell:/media/srini/Projects/Personal_Projects/OpenCV_GUI/Pyhton/better_python/1_Pythonic_thinking.ipynb#ch0000007?line=1'>2</a>\u001b[0m b \u001b[39m=\u001b[39m \u001b[39m'\u001b[39m\u001b[39mworld\u001b[39m\u001b[39m'\u001b[39m     \u001b[39m# str\u001b[39;00m\n\u001b[0;32m----> <a href='vscode-notebook-cell:/media/srini/Projects/Personal_Projects/OpenCV_GUI/Pyhton/better_python/1_Pythonic_thinking.ipynb#ch0000007?line=2'>3</a>\u001b[0m \u001b[39mprint\u001b[39m(a \u001b[39m+\u001b[39;49m b)\n",
      "\u001b[0;31mTypeError\u001b[0m: can't concat str to bytes"
     ]
    }
   ],
   "source": [
    "\n",
    "a = b'hello'    # bytes\n",
    "b = 'world'     # str\n",
    "print(a + b)\n"
   ]
  },
  {
   "cell_type": "code",
   "execution_count": 29,
   "id": "69976021",
   "metadata": {},
   "outputs": [
    {
     "name": "stdout",
     "output_type": "stream",
     "text": [
      "b'helloworld'\n"
     ]
    }
   ],
   "source": [
    "print(a + b.encode('utf-8'))"
   ]
  },
  {
   "cell_type": "code",
   "execution_count": 30,
   "id": "0f6a51be",
   "metadata": {},
   "outputs": [
    {
     "ename": "TypeError",
     "evalue": "can't concat str to bytes",
     "output_type": "error",
     "traceback": [
      "\u001b[0;31m---------------------------------------------------------------------------\u001b[0m",
      "\u001b[0;31mTypeError\u001b[0m                                 Traceback (most recent call last)",
      "\u001b[1;32m/media/srini/Projects/Personal_Projects/OpenCV_GUI/Pyhton/better_python/1_Pythonic_thinking.ipynb Cell 17'\u001b[0m in \u001b[0;36m<cell line: 2>\u001b[0;34m()\u001b[0m\n\u001b[1;32m      <a href='vscode-notebook-cell:/media/srini/Projects/Personal_Projects/OpenCV_GUI/Pyhton/better_python/1_Pythonic_thinking.ipynb#ch0000060?line=0'>1</a>\u001b[0m \u001b[39m# Addition of bytes with strings\u001b[39;00m\n\u001b[0;32m----> <a href='vscode-notebook-cell:/media/srini/Projects/Personal_Projects/OpenCV_GUI/Pyhton/better_python/1_Pythonic_thinking.ipynb#ch0000060?line=1'>2</a>\u001b[0m \u001b[39mprint\u001b[39m(a \u001b[39m+\u001b[39;49m b)\n",
      "\u001b[0;31mTypeError\u001b[0m: can't concat str to bytes"
     ]
    }
   ],
   "source": [
    "\n",
    "# Addition of bytes with strings\n",
    "print(a + b)"
   ]
  },
  {
   "cell_type": "code",
   "execution_count": 31,
   "id": "b5d82815",
   "metadata": {},
   "outputs": [
    {
     "name": "stdout",
     "output_type": "stream",
     "text": [
      "helloworld\n"
     ]
    }
   ],
   "source": [
    "# Convert bytes to str and add\n",
    "print(a.decode('utf-8') + b)\n"
   ]
  },
  {
   "cell_type": "markdown",
   "id": "f07d1a1f",
   "metadata": {},
   "source": [
    "- To read a text file:\n",
    "    - Use `open(filename, 'r')`\n",
    "    - Use `read()` to read the entire file.\n",
    "    - Use `close()` to close the file.\n"
   ]
  },
  {
   "cell_type": "code",
   "execution_count": 33,
   "id": "5f40175a",
   "metadata": {},
   "outputs": [
    {
     "name": "stdout",
     "output_type": "stream",
     "text": [
      "This is a demo file to read and write from!\n"
     ]
    }
   ],
   "source": [
    "with open('files/test.txt', 'r') as f:\n",
    "    print(f.read())\n",
    "\n"
   ]
  },
  {
   "cell_type": "markdown",
   "id": "b5173dd8",
   "metadata": {},
   "source": [
    "## Item 4: F-Strings over C-style string and `str.format()`\n",
    "\n",
    "Instead of using C-style string and `str.format()`, use inbuilt- robust f strings to avoid type conversion incompatibilities and other issues that might occur."
   ]
  },
  {
   "cell_type": "code",
   "execution_count": 34,
   "id": "83c8263d",
   "metadata": {},
   "outputs": [
    {
     "name": "stdout",
     "output_type": "stream",
     "text": [
      "1  . milk       -  € 0.77\n",
      "2  . eggs       -  € 2.10\n",
      "3  . cheese     -  € 2.80\n",
      "4  . bread      -  € 1.30\n",
      "5  . butter     -  € 1.80\n"
     ]
    }
   ],
   "source": [
    "shopping_list = [(\"milk\", 0.77), (\"eggs\", 2.10), (\"cheese\", 2.8), (\"bread\", 1.30), (\"butter\", 1.8)]\n",
    "\n",
    "for i, (item, price) in enumerate(shopping_list):\n",
    "    print(f\"{i+1:<3}. {item:<10} -  € {price:.2f}\")\n"
   ]
  },
  {
   "cell_type": "markdown",
   "id": "f3baade6",
   "metadata": {},
   "source": [
    "- f-strings are able to use `{var_name}` instead of `%` for formatting.\n",
    "    - Use `{var_name:<width}` to left align the variable.\n",
    "    - Use `{var_name:>width}` to right align the variable.\n",
    "    - Use `{var_name:^width}` to center the variable.\n",
    "\n",
    "More documentation can be found at [here](https://docs.python.org/3/reference/lexical_analysis.html#f-strings) and [here](https://docs.python.org/2/library/string.html#formatspec).\n",
    "\n",
    "\n",
    "## Item 5: Helper functions instead of single complex functions\n",
    "\n",
    "- The example below reads the red, green, blue and alpha values from a dictionary and returns zero, if the values in the dictionary are missing.\n",
    "  \n",
    "1. Without helper function:"
   ]
  },
  {
   "cell_type": "code",
   "execution_count": 35,
   "id": "ddd77d78",
   "metadata": {},
   "outputs": [
    {
     "name": "stdout",
     "output_type": "stream",
     "text": [
      "red: 220\n",
      "green: 0\n",
      "blue: 240\n",
      "alpha: 0\n"
     ]
    }
   ],
   "source": [
    "incomplete_dict = {\"red\": ['220'], \"green\": [''], \"blue\": ['240'], \"alpha\" :['']}\n",
    "\n",
    "red = incomplete_dict.get(\"red\", [''])[0] or 0\n",
    "red = int(red)\n",
    "green = incomplete_dict.get(\"green\", [''])[0] or 0\n",
    "green = int(green)\n",
    "blue = incomplete_dict.get(\"blue\", [''])[0] or 0\n",
    "blue = int(blue)\n",
    "alpha = incomplete_dict.get(\"alpha\", [''])[0] or 0\n",
    "alpha = int(alpha)\n",
    "\n",
    "\n",
    "print(f\"red: {red}\")\n",
    "print(f\"green: {green}\")\n",
    "print(f\"blue: {blue}\")      \n",
    "print(f\"alpha: {alpha}\")\n"
   ]
  },
  {
   "cell_type": "markdown",
   "id": "786ca79c",
   "metadata": {},
   "source": [
    "2. With helper function:"
   ]
  },
  {
   "cell_type": "code",
   "execution_count": 36,
   "id": "6a7ae691",
   "metadata": {},
   "outputs": [
    {
     "name": "stdout",
     "output_type": "stream",
     "text": [
      "red: 220\n",
      "green: 0\n",
      "blue: 240\n",
      "alpha: 0\n"
     ]
    }
   ],
   "source": [
    "incomplete_dict = {\"red\": ['220'], \"green\": [''], \"blue\": ['240'], \"alpha\" :['']}\n",
    "\n",
    "def get_color_value(color_name, color_dict, default = 0):\n",
    "    value = color_dict.get(color_name, [''])\n",
    "    if value[0]:\n",
    "        return int(value[0])\n",
    "    return default\n",
    "    \n",
    "\n",
    "red = get_color_value(\"red\", incomplete_dict)\n",
    "green = get_color_value(\"green\", incomplete_dict)\n",
    "blue = get_color_value(\"blue\", incomplete_dict)\n",
    "alpha = get_color_value(\"alpha\", incomplete_dict)\n",
    "\n",
    "print(f\"red: {red}\")\n",
    "print(f\"green: {green}\")\n",
    "print(f\"blue: {blue}\")\n",
    "print(f\"alpha: {alpha}\")"
   ]
  },
  {
   "cell_type": "markdown",
   "id": "e82cb0a8",
   "metadata": {},
   "source": [
    "- Helper functions are advised to be used when the same process is carried out multiple times. Also helps to find bugs in the program, as the author has to focus on a function rather than searching all the variables.\n",
    "\n",
    "\n",
    "## Item 6: Multiple assignment unpacking over indexing.\n",
    "1. Indexing ( With no unpacking):"
   ]
  },
  {
   "cell_type": "code",
   "execution_count": 37,
   "id": "2e52dd03",
   "metadata": {},
   "outputs": [
    {
     "name": "stdout",
     "output_type": "stream",
     "text": [
      "No. 0    red    : (255, 0, 0)    \n",
      "No. 1   green   : (0, 255, 0)    \n",
      "No. 2    blue   : (0, 0, 255)    \n"
     ]
    }
   ],
   "source": [
    "\n",
    "colors = [(\"red\", (255,0,0)), (\"green\", (0,255,0)), (\"blue\", (0,0,255))]\n",
    "\n",
    "for i in range(len(colors)):\n",
    "    color = colors[i]\n",
    "    color_name = color[0]\n",
    "    color_value = color[1]\n",
    "    print(f\"No. {i:<2}{color_name:^10}: {str(color_value):<15}\")\n"
   ]
  },
  {
   "cell_type": "markdown",
   "id": "aa2b19d7",
   "metadata": {},
   "source": [
    "2. With unpacking:"
   ]
  },
  {
   "cell_type": "code",
   "execution_count": 38,
   "id": "ddfdb261",
   "metadata": {},
   "outputs": [
    {
     "name": "stdout",
     "output_type": "stream",
     "text": [
      "No. 0    red    : (255, 0, 0)    \n",
      "No. 1   green   : (0, 255, 0)    \n",
      "No. 2    blue   : (0, 0, 255)    \n"
     ]
    }
   ],
   "source": [
    "colors = [(\"red\", (255,0,0)), (\"green\", (0,255,0)), (\"blue\", (0,0,255))]\n",
    "\n",
    "for rank, (color_name, value) in enumerate(colors, 0) :\n",
    "    print(f\"No. {rank:<2}{color_name:^10}: {str(value):<15}\")\n"
   ]
  },
  {
   "cell_type": "markdown",
   "id": "069f9e8d",
   "metadata": {},
   "source": [
    "- Reduce visual noise and increase code clarity by using unpacking to avoid explicitly indexing into sequences.\n",
    "  \n",
    "## Item 7: `enumerate()` over `range()`\n",
    "\n",
    "1. `range()` returns an iterator, which can be used to iterate over a set of integers."
   ]
  },
  {
   "cell_type": "code",
   "execution_count": 39,
   "id": "dd467b43",
   "metadata": {},
   "outputs": [
    {
     "name": "stdout",
     "output_type": "stream",
     "text": [
      "0b101010100\n"
     ]
    }
   ],
   "source": [
    "from random import randint\n",
    "\n",
    "randombits = 0\n",
    "\n",
    "for i in range(10):\n",
    "    if randint(0, 1):\n",
    "        randombits |= 1 << i    \n",
    "print(bin(randombits))\n",
    "\n"
   ]
  },
  {
   "cell_type": "markdown",
   "id": "713f4eb8",
   "metadata": {},
   "source": [
    "2. direct iteration:"
   ]
  },
  {
   "cell_type": "code",
   "execution_count": 40,
   "id": "48ad5047",
   "metadata": {},
   "outputs": [
    {
     "name": "stdout",
     "output_type": "stream",
     "text": [
      "It's good to learn Python\n",
      "It's good to learn C++\n",
      "It's good to learn Rust\n",
      "It's good to learn C#\n"
     ]
    }
   ],
   "source": [
    "data = [\"Python\", \"C++\", \"Rust\", \"C#\"]\n",
    "\n",
    "for language in data:\n",
    "    print(f\"It's good to learn {language}\")\n"
   ]
  },
  {
   "cell_type": "markdown",
   "id": "1e2c1475",
   "metadata": {},
   "source": [
    "3. `enumerate()` returns an iterator, which can be used to iterate over a set of a complex datastructure and also return the index of the integer.\n",
    "-  The `start` parameter can be used to start the indexing from a particular number.\n",
    "\n",
    "- Using `start = 0`"
   ]
  },
  {
   "cell_type": "code",
   "execution_count": 41,
   "id": "4beb41ad",
   "metadata": {},
   "outputs": [
    {
     "name": "stdout",
     "output_type": "stream",
     "text": [
      "1. Python is a high-level language\n",
      "2. C++ is a low-level language\n",
      "3. Rust is a high-level language\n"
     ]
    }
   ],
   "source": [
    "nested_list = [[\"Python\", \"high-level language\"], [\"C++\", \"low-level language\"], [\"Rust\", \"high-level language\"]]\n",
    "\n",
    "for i, language in enumerate(nested_list, start = 0):\n",
    "    name = language[0]\n",
    "    level = language[1]\n",
    "    print(f\"{i+1}. {name} is a {level}\")"
   ]
  },
  {
   "cell_type": "markdown",
   "id": "e7a27dba",
   "metadata": {},
   "source": [
    "- Using `start = 1`"
   ]
  },
  {
   "cell_type": "code",
   "execution_count": 42,
   "id": "2c3c68a8",
   "metadata": {},
   "outputs": [
    {
     "name": "stdout",
     "output_type": "stream",
     "text": [
      "1. Python is a high-level language\n",
      "2. C++ is a low-level language\n",
      "3. Rust is a high-level language\n"
     ]
    }
   ],
   "source": [
    "for i, [name, level] in enumerate(nested_list, start=1):\n",
    "    print(f\"{i}. {name} is a {level}\")"
   ]
  },
  {
   "cell_type": "markdown",
   "id": "ee9eed2b",
   "metadata": {},
   "source": [
    "- Both the above examples are equivalent, but the level of iteration is different.\n",
    "- Both produce the same output,"
   ]
  },
  {
   "cell_type": "markdown",
   "id": "dbf4c97d",
   "metadata": {},
   "source": [
    "- Enumereate provides concise syntax to loop over an iterator and getting the index of each item from the iterator.\n",
    "- Prefer `enumerate()` instead of looping over a range and indexing into a sequence.\n",
    "\n",
    "## Item 8: `zip()` to process iterators in parallel\n",
    "- Process two iterators at the same time.\n",
    "- If the iterators are of different lengths, the longer iterator will be truncated."
   ]
  },
  {
   "cell_type": "code",
   "execution_count": 43,
   "id": "ee0ec1fe",
   "metadata": {},
   "outputs": [
    {
     "name": "stdout",
     "output_type": "stream",
     "text": [
      "Python is a high-level language\n",
      "C++ is a low-level language\n",
      "Rust is a high-level language\n",
      "C# is a high-level language\n"
     ]
    }
   ],
   "source": [
    "names = [\"Python\", \"C++\", \"Rust\", \"C#\"]\n",
    "levels = [\"high-level\", \"low-level\", \"high-level\", \"high-level\"]\n",
    "\n",
    "for name, level in zip(names, levels):\n",
    "    print(f\"{name} is a {level} language\")\n",
    " "
   ]
  },
  {
   "cell_type": "markdown",
   "id": "1f6c6e96",
   "metadata": {},
   "source": [
    "- To also obtain the index, use `enumerate()` on `zip()`"
   ]
  },
  {
   "cell_type": "code",
   "execution_count": 44,
   "id": "901ab853",
   "metadata": {},
   "outputs": [
    {
     "name": "stdout",
     "output_type": "stream",
     "text": [
      "1. Python is a high-level\n",
      "2. C++ is a low-level\n",
      "3. Rust is a high-level\n",
      "4. C# is a high-level\n"
     ]
    }
   ],
   "source": [
    "for i, (name, level) in enumerate(zip(names, levels), start=1):\n",
    "    print(f\"{i}. {name} is a {level}\")"
   ]
  },
  {
   "cell_type": "markdown",
   "id": "266fea8d",
   "metadata": {},
   "source": [
    "## -> Avoid the truncation of longer iterator while zip using `itertools.zip_longest()`\n",
    "The shorter iterator will be extended with `None` values."
   ]
  },
  {
   "cell_type": "code",
   "execution_count": 45,
   "id": "3b98809a",
   "metadata": {},
   "outputs": [
    {
     "name": "stdout",
     "output_type": "stream",
     "text": [
      "1 4\n",
      "2 5\n",
      "3 6\n",
      "None 7\n"
     ]
    }
   ],
   "source": [
    "from itertools import zip_longest\n",
    "a = [1, 2, 3]\n",
    "b = [4, 5, 6, 7]\n",
    "\n",
    "for i, j in zip_longest(a, b):\n",
    "    print(f\"{i} {j}\")"
   ]
  },
  {
   "cell_type": "markdown",
   "id": "29842847",
   "metadata": {},
   "source": [
    "## Item 9: Avoid `else()` after `for()` and `while()` loops\n",
    "Eventhough python allows you to use `else()` after `for()` and `while()` loops, it is not recommended."
   ]
  },
  {
   "cell_type": "code",
   "execution_count": 46,
   "id": "ba31b91e",
   "metadata": {},
   "outputs": [
    {
     "name": "stdout",
     "output_type": "stream",
     "text": [
      "1 is odd\n",
      "2 is even\n",
      "3 is odd\n",
      "Executes if no exceptions in the loop\n"
     ]
    }
   ],
   "source": [
    "for i in range(1, 4):\n",
    "    if i and i % 2 == 0:\n",
    "        print(f\"{i} is even\")\n",
    "    else:\n",
    "        print(f\"{i} is odd\")\n",
    "else:\n",
    "    print(\"Executes if no exceptions in the loop\")"
   ]
  },
  {
   "cell_type": "markdown",
   "id": "443b8b11",
   "metadata": {},
   "source": [
    "Executes if no exceptions in the loop\n",
    "- The else block executes when there is no exceptions encountered i.e. the `while()` or `for()` loop has exited normally.\n",
    "* As this information can be misleading, it is advised to use `else()` only after `if()` and `elif()` statements.\n"
   ]
  },
  {
   "cell_type": "markdown",
   "id": "e25f0f31",
   "metadata": {},
   "source": [
    "## Item 10: Avoid repition with assignment expressions"
   ]
  },
  {
   "cell_type": "code",
   "execution_count": 47,
   "id": "b4ff672b",
   "metadata": {},
   "outputs": [
    {
     "name": "stdout",
     "output_type": "stream",
     "text": [
      "You can make 4 glasses of lemonade\n"
     ]
    }
   ],
   "source": [
    "fruits = {\"apple\": 5, \"banana\": 20, \"lemon\": 4}\n",
    "\n",
    "lemons = fruits.get(\"lemon\", 0)\n",
    "if lemons:\n",
    "    print(f\"You can make {lemons} glasses of lemonade\")\n",
    "else:\n",
    "    print(\"You have no lemons, can't make lemonade\")"
   ]
  },
  {
   "cell_type": "markdown",
   "id": "22943ec9",
   "metadata": {},
   "source": [
    "- With the help of assignment expression (also known as walrus operator), the above code can be written as:"
   ]
  },
  {
   "cell_type": "code",
   "execution_count": 48,
   "id": "3cf1112a",
   "metadata": {},
   "outputs": [
    {
     "name": "stdout",
     "output_type": "stream",
     "text": [
      "You can make 4 glasses of lemonade\n"
     ]
    }
   ],
   "source": [
    "fruits = {\"apple\": 5, \"banana\": 20, \"lemon\": 4}\n",
    "\n",
    "if lemons:= fruits.get(\"lemon\", 0):\n",
    "    print(f\"You can make {lemons} glasses of lemonade\")\n",
    "else:\n",
    "    print(\"You have no lemons, can't make lemonade\")"
   ]
  },
  {
   "cell_type": "markdown",
   "id": "b8939365",
   "metadata": {},
   "source": [
    "- Eventhough walrus operator reduces the code by one line, the code is much readable."
   ]
  }
 ],
 "metadata": {
  "interpreter": {
   "hash": "916dbcbb3f70747c44a77c7bcd40155683ae19c65e1c03b4aa3499c5328201f1"
  },
  "kernelspec": {
   "display_name": "Python 3.8.10 64-bit",
   "language": "python",
   "name": "python3"
  },
  "language_info": {
   "codemirror_mode": {
    "name": "ipython",
    "version": 3
   },
   "file_extension": ".py",
   "mimetype": "text/x-python",
   "name": "python",
   "nbconvert_exporter": "python",
   "pygments_lexer": "ipython3",
   "version": "3.8.10"
  }
 },
 "nbformat": 4,
 "nbformat_minor": 5
}
